{
 "cells": [
  {
   "cell_type": "code",
   "execution_count": null,
   "metadata": {},
   "outputs": [],
   "source": [
    "row1=['0','1','2']\n",
    "row2=['3','4','5']\n",
    "row3=['6','7','8']\n",
    "def print_rows(row1,row2,row3):\n",
    "  print(row1)\n",
    "  print(row2)\n",
    "  print(row3)\n",
    "print_rows(row1,row2,row3)"
   ]
  },
  {
   "cell_type": "code",
   "execution_count": null,
   "metadata": {},
   "outputs": [],
   "source": [
    "#function for every chance\n",
    "\n",
    "def chance():\n",
    "  #no of chances goes from 1-9 \n",
    "  chance1=1\n",
    "  for chance1 in range (1,10):\n",
    "    \n",
    "      \n",
    "   pos=int(input('Please enter a position from 0-8: \\n'))\n",
    " \n",
    "  \n",
    "   if chance1 in [1,3,5,7,9] :\n",
    "      player_1(pos)\n",
    "      print_rows(row1,row2,row3)\n",
    "      result() #To check result after every chance, in case there is a winner\n",
    "   elif chance1 in [2,4,6,8]:\n",
    "      player_2(pos)  \n",
    "      print_rows(row1,row2,row3)\n",
    "      result()\n",
    "      \n",
    "   else: \n",
    "      endresult() #if all the chances are done and no winner\n",
    "   stop()   "
   ]
  },
  {
   "cell_type": "code",
   "execution_count": null,
   "metadata": {},
   "outputs": [],
   "source": [
    "def player_1(pos):# symbolX\n",
    "   if pos in range(0,3):\n",
    "     row1[pos]='X'\n",
    "     return row1\n",
    "   elif pos in range(3,6):#took pos from 0-8 but indexes has to be 0-2 so a bit of extra code!\n",
    "     if pos ==3:\n",
    "       pos=0\n",
    "     elif pos==4:\n",
    "       pos=1\n",
    "     else:\n",
    "       pos=2    \n",
    "     row2[pos]='X'\n",
    "     return row2\n",
    "   else:\n",
    "     if pos==6:\n",
    "       pos=0\n",
    "     elif pos ==7:\n",
    "       pos=1\n",
    "     else:\n",
    "       pos=2\n",
    "     row3[pos]='X'    \n",
    "     return row3\n",
    "\n",
    "\n",
    "def player_2(pos):  # symbolO\n",
    "    if pos in range(0,3):\n",
    "     row1[pos]='O'\n",
    "     return row1\n",
    "    elif pos in range(3,6):#took pos from 0-8 but indexes has to be 0-2 so a bit of extra code!\n",
    "     if pos ==3:\n",
    "       pos=0\n",
    "     elif pos==4:\n",
    "       pos=1\n",
    "     else:\n",
    "       pos=2      \n",
    "     row2[pos]='O'\n",
    "     return row2\n",
    "    else:\n",
    "     if pos==6:\n",
    "       pos=0\n",
    "     elif pos ==7:\n",
    "       pos=1\n",
    "     else:\n",
    "       pos=2 \n",
    "     row3[pos]='O'    \n",
    "     return row3"
   ]
  },
  {
   "cell_type": "code",
   "execution_count": null,
   "metadata": {},
   "outputs": [],
   "source": [
    "def result():\n",
    "    # taking every possible combination(there are 8)\n",
    "    if row1[0]==row1[1]==row1[2]=='X' or row2[0]==row2[1]==row2[2]=='X' or row3[0]==row3[1]==row3[2]=='X' or row1[0]==row2[1]==row3[2]=='X' or row1[0]==row1[1]==row1[2]=='X' or row1[0]==row2[0]==row3[0]=='X' or row1[1]==row2[1]==row3[1]=='X' or row1[2]==row2[2]==row3[2]=='X' or row1[2]==row2[1]==row3[0]=='X':\n",
    "      print('Player 1 is winner!!!!!')\n",
    "      stop()# to stop the for loop since it will keep running\n",
    "    \n",
    "    elif row1[0]==row1[1]==row1[2]=='O' or row2[0]==row2[1]==row2[2]=='O' or row3[0]==row3[1]==row3[2]=='O' or row1[0]==row2[1]==row3[2]=='O' or row1[0]==row1[1]==row1[2]=='O' or row1[0]==row2[0]==row3[0]=='O' or row1[1]==row2[1]==row3[1]=='O' or row1[2]==row2[2]==row3[2]=='O' or row1[2]==row2[1]==row3[0]=='O':\n",
    "      print('Player 2 is winner!!!!!')\n",
    "      \n",
    "    else:\n",
    "      pass   \n",
    "def endresult():\n",
    "      \n",
    "      print('OOPS!!Its a tie!')"
   ]
  },
  {
   "cell_type": "code",
   "execution_count": null,
   "metadata": {},
   "outputs": [],
   "source": [
    "#intro\n",
    "print('WELCOME!!')\n",
    "print_rows(row1,row2,row3)\n",
    "chance()"
   ]
  }
 ],
 "metadata": {
  "kernelspec": {
   "display_name": "Python 3",
   "language": "python",
   "name": "python3"
  },
  "language_info": {
   "codemirror_mode": {
    "name": "ipython",
    "version": 3
   },
   "file_extension": ".py",
   "mimetype": "text/x-python",
   "name": "python",
   "nbconvert_exporter": "python",
   "pygments_lexer": "ipython3",
   "version": "3.8.5"
  }
 },
 "nbformat": 4,
 "nbformat_minor": 4
}
